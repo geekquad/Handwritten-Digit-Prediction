{
 "cells": [
  {
   "cell_type": "code",
   "execution_count": 2,
   "metadata": {},
   "outputs": [],
   "source": [
    "def helper():\n",
    "    import matplotlib.pyplot as plt\n",
    "    import numpy as np\n",
    "from torch import nn, optim\n",
    "from torch.autograd import Variable\n",
    "\n",
    "\n",
    "def test_network(net, trainloader):\n",
    "\n",
    "    criterion = nn.MSELoss()\n",
    "    optimizer = optim.Adam(net.parameters(), lr=0.001)\n",
    "\n",
    "    dataiter = iter(trainloader)\n",
    "    images, labels = dataiter.next()\n",
    "\n",
    "    # Create Variables for the inputs and targets\n",
    "    inputs = Variable(images)\n",
    "    targets = Variable(images)\n",
    "\n",
    "    # Clear the gradients from all Variables\n",
    "    optimizer.zero_grad()\n",
    "\n",
    "    # Forward pass, then backward pass, then update weights\n",
    "    output = net.forward(inputs)\n",
    "    loss = criterion(output, targets)\n",
    "    loss.backward()\n",
    "    optimizer.step()\n",
    "\n",
    "    return True\n",
    "\n",
    "\n",
    "def imshow(image, ax=None, title=None, normalize=True):\n",
    "    \"\"\"Imshow for Tensor.\"\"\"\n",
    "    if ax is None:\n",
    "        fig, ax = plt.subplots()\n",
    "    image = image.numpy().transpose((1, 2, 0))\n",
    "\n",
    "    if normalize:\n",
    "        mean = np.array([0.485, 0.456, 0.406])\n",
    "        std = np.array([0.229, 0.224, 0.225])\n",
    "        image = std * image + mean\n",
    "        image = np.clip(image, 0, 1)\n",
    "\n",
    "    ax.imshow(image)\n",
    "    ax.spines['top'].set_visible(False)\n",
    "    ax.spines['right'].set_visible(False)\n",
    "    ax.spines['left'].set_visible(False)\n",
    "    ax.spines['bottom'].set_visible(False)\n",
    "    ax.tick_params(axis='both', length=0)\n",
    "    ax.set_xticklabels('')\n",
    "    ax.set_yticklabels('')\n",
    "\n",
    "    return ax\n",
    "\n",
    "\n",
    "def view_recon(img, recon):\n",
    "    ''' Function for displaying an image (as a PyTorch Tensor) and its\n",
    "        reconstruction also a PyTorch Tensor\n",
    "    '''\n",
    "\n",
    "    fig, axes = plt.subplots(ncols=2, sharex=True, sharey=True)\n",
    "    axes[0].imshow(img.numpy().squeeze())\n",
    "    axes[1].imshow(recon.data.numpy().squeeze())\n",
    "    for ax in axes:\n",
    "        ax.axis('off')\n",
    "        ax.set_adjustable('box-forced')\n",
    "\n",
    "def view_classify(img, ps, version=\"MNIST\"):\n",
    "    ''' Function for viewing an image and it's predicted classes.\n",
    "    '''\n",
    "    ps = ps.data.numpy().squeeze()\n",
    "\n",
    "    fig, (ax1, ax2) = plt.subplots(figsize=(6,9), ncols=2)\n",
    "    ax1.imshow(img.resize_(1, 28, 28).numpy().squeeze())\n",
    "    ax1.axis('off')\n",
    "    ax2.barh(np.arange(10), ps)\n",
    "    ax2.set_aspect(0.1)\n",
    "    ax2.set_yticks(np.arange(10))\n",
    "    if version == \"MNIST\":\n",
    "        ax2.set_yticklabels(np.arange(10))\n",
    "    elif version == \"Fashion\":\n",
    "        ax2.set_yticklabels(['T-shirt/top',\n",
    "                            'Trouser',\n",
    "                            'Pullover',\n",
    "                            'Dress',\n",
    "                            'Coat',\n",
    "                            'Sandal',\n",
    "                            'Shirt',\n",
    "                            'Sneaker',\n",
    "                            'Bag',\n",
    "                            'Ankle Boot'], size='small');\n",
    "    ax2.set_title('Class Probability')\n",
    "    ax2.set_xlim(0, 1.1)\n",
    "\n",
    "    plt.tight_layout()\n"
   ]
  },
  {
   "cell_type": "code",
   "execution_count": 3,
   "metadata": {},
   "outputs": [],
   "source": [
    "%matplotlib inline\n",
    "%config InlineBackend.figure_format = 'retina'\n",
    "\n",
    "import helper\n",
    "import torch\n",
    "import numpy as np\n",
    "import matplotlib.pyplot as plt"
   ]
  },
  {
   "cell_type": "code",
   "execution_count": 4,
   "metadata": {},
   "outputs": [],
   "source": [
    "from torchvision import datasets, transforms\n",
    "\n",
    "transform = transforms.Compose([transforms.ToTensor(),\n",
    "                               transforms.Normalize((0.5,),(0.5,)),\n",
    "                               ])\n",
    "\n",
    "trainset = datasets.MNIST('~/.pytorch/MNIST_data/', download=True, train=True, transform=transform)\n",
    "trainloader = torch.utils.data.DataLoader(trainset, batch_size=64, shuffle=True)"
   ]
  },
  {
   "cell_type": "markdown",
   "metadata": {},
   "source": [
    "We have the training data loaded into trainloader and we make that an iterator with iter(trainloader). Later, we'll use this to loop through the dataset for training. "
   ]
  },
  {
   "cell_type": "code",
   "execution_count": 5,
   "metadata": {},
   "outputs": [
    {
     "name": "stdout",
     "output_type": "stream",
     "text": [
      "<class 'torch.Tensor'>\n",
      "torch.Size([64, 1, 28, 28])\n",
      "torch.Size([64])\n"
     ]
    }
   ],
   "source": [
    "dataiter = iter(trainloader)\n",
    "images, labels = dataiter.next()\n",
    "print(type(images))\n",
    "print(images.shape)\n",
    "print(labels.shape)"
   ]
  },
  {
   "cell_type": "markdown",
   "metadata": {},
   "source": [
    "This is what one of the images looks like."
   ]
  },
  {
   "cell_type": "code",
   "execution_count": 6,
   "metadata": {},
   "outputs": [
    {
     "data": {
      "image/png": "[encoded data removed]",
      "text/plain": [
       "<matplotlib.figure.Figure at 0x203fd7347f0>"
      ]
     },
     "metadata": {
      "image/png": {
       "height": 250,
       "width": 253
      }
     },
     "output_type": "display_data"
    }
   ],
   "source": [
    "plt.imshow(images[1].numpy().squeeze(), cmap='Greys_r');"
   ]
  },
  {
   "cell_type": "code",
   "execution_count": 7,
   "metadata": {},
   "outputs": [
    {
     "name": "stdout",
     "output_type": "stream",
     "text": [
      "tensor([[  9.2658, -14.9729,  10.0991, -15.3291,   6.5817,  -2.5705,\n",
      "          19.9147,  10.8848,  -9.3295,  -5.6223],\n",
      "        [ 10.1699, -12.2240,  14.1531, -13.8864,   6.3777,   0.3913,\n",
      "           7.4636,  10.7442,  -3.5720,  -3.6058],\n",
      "        [  7.2268, -15.7606,  14.0444, -20.1648,   0.6024,   9.5747,\n",
      "          16.8988,  13.1512, -11.1724,  -0.7776],\n",
      "        [  2.6807, -16.7962,  15.9094,  -7.8409,  -5.6577,   1.3438,\n",
      "          18.2745,  10.1042, -25.9574,  -4.1612],\n",
      "        [ 14.0450, -11.5911,   5.3623, -19.1955,   1.0069,  -3.9910,\n",
      "          16.3457,  19.4062, -12.4237,  -4.0894],\n",
      "        [  9.2035, -15.9853,   3.9679, -12.5838,   6.8023,   1.0840,\n",
      "          16.3113,  13.3918, -19.3914,  -6.1321],\n",
      "        [  9.6922, -15.4098,   3.8434, -16.5822,   8.3016,  -1.0700,\n",
      "          28.2105,  12.2421, -11.5458,  -1.1656],\n",
      "        [  1.8647, -14.2712,  14.9823, -10.9869,  -3.6175,  -3.1681,\n",
      "           5.8300,   4.7605,  -8.0814,   1.5743],\n",
      "        [  2.8625,  -4.9286,  -2.1187, -11.0309,  10.3048,   0.2823,\n",
      "          24.8986,  11.0170, -11.7592,   0.8915],\n",
      "        [ -1.7840,  -1.7359,  13.1389, -11.4848,   5.4169,   2.6680,\n",
      "           3.0634,  17.1213,  -4.0338,   1.4985],\n",
      "        [  7.4123, -18.1901,  12.1213, -25.8921,  10.4137,   2.4173,\n",
      "          26.2479,  11.7809, -10.6724,  -3.7668],\n",
      "        [  9.9462,  -9.0866,   4.0065, -22.3116,   9.6074,  -0.1725,\n",
      "           0.4380,  12.0122, -13.4214,  -5.9673],\n",
      "        [  7.0872,  -8.0883,   4.2030, -10.6000,   4.8942,  -1.6258,\n",
      "          20.9205,  10.7528, -15.4663,  -5.3216],\n",
      "        [ 18.0736, -13.4011,   5.9716,  -6.2786,  -3.2425,  -5.7681,\n",
      "           8.7531,   1.8536,  -0.8064,   2.4598],\n",
      "        [ 10.2572, -17.6192,  11.0859, -14.8401,   8.4267,  -5.6489,\n",
      "          21.9855,  17.6778,  -7.2984,  -3.8986],\n",
      "        [ 12.4208,  -8.5141,  -1.6294, -11.2919,   2.1031, -16.0767,\n",
      "           7.6199,  16.0457,  -2.6025,   6.1783],\n",
      "        [ 10.7839, -11.6159,  16.6310, -10.4827,  -4.2664,  -2.3617,\n",
      "          14.8868,  12.6947,  -0.7452,   9.8213],\n",
      "        [ 12.2628,  -7.3544,  12.3528, -18.0399,  -3.7924,   0.9507,\n",
      "           5.9967,  14.5446,  -1.1918,   0.3607],\n",
      "        [  5.7199, -18.9325,   4.8353, -19.2931,  12.1733,   5.0657,\n",
      "          10.8954,  12.9275,  -7.0776,  -2.0263],\n",
      "        [  5.7804, -18.3092,  14.5741, -16.4466,  12.2572,  -4.3009,\n",
      "          27.8148,  13.5534, -12.2630,  -1.2556],\n",
      "        [ 10.6071, -21.2956,   7.4359, -15.5820,   0.1462,   3.6857,\n",
      "          18.3023,  10.9638, -14.0000,  -2.2222],\n",
      "        [  7.8879,  -7.2324,   7.5087,  -9.9802,   2.3113,  -0.6598,\n",
      "          15.8254,  -2.4796,  -3.4562,   9.7919],\n",
      "        [  7.0508, -20.9262,  13.8974, -17.2104,   0.0536,  -0.2430,\n",
      "          12.2450,  14.2553, -19.0417,   9.2794],\n",
      "        [ 16.2049, -13.6142,  11.6919, -20.8552,  11.9459,   0.9733,\n",
      "          23.8605,   8.3964, -13.3476,  -5.9119],\n",
      "        [ 10.6189,  -2.3627,   7.2397, -15.2736,  -6.7401,  -5.1348,\n",
      "          15.4302,   4.0581,   4.7629,   7.7561],\n",
      "        [ 18.0851, -12.3004,  11.1157,  -9.8838,   3.0185, -13.3153,\n",
      "           6.9093,   0.2325,  -5.3492,   0.0618],\n",
      "        [  4.9153, -14.1239,  11.3910, -11.5648,   4.6873,   1.1259,\n",
      "           8.2497,  16.0738, -21.2044,  -1.9837],\n",
      "        [ -0.5589,  -6.8725,   1.5097, -14.9095,   9.4890,   1.8503,\n",
      "          13.5374,   8.9898,   4.9968,  -0.3762],\n",
      "        [  8.7882, -13.0033,  15.9441, -13.1437,  -0.4609,  -4.1360,\n",
      "           6.7398,   9.3548,  -2.9880,   7.5505],\n",
      "        [ 13.6944,  -1.2254,   5.2354, -15.7899,  -1.5883,  -9.5975,\n",
      "           0.3976,   8.7232,   5.4289,   4.7026],\n",
      "        [ 14.9614,  -9.9401,   4.2618, -13.6509,   2.8853,   0.1800,\n",
      "          15.6795,   4.0250,  -2.9723,   2.5859],\n",
      "        [ 17.2824,  -5.2008,   5.0007, -23.0465,   1.2515,  -8.9292,\n",
      "           0.4162,   3.8551,  -4.5411,  13.4228],\n",
      "        [  6.4810, -17.2165,  16.9307, -15.5273,  11.2385,  -3.8630,\n",
      "          24.3632,  11.1319,  -9.0557,   3.5281],\n",
      "        [ 10.2978,  -4.2337,  14.5307, -17.2598,  -1.4278,  -3.1005,\n",
      "          12.5332,  17.8782,  -9.5821,   0.0303],\n",
      "        [  8.5474, -10.6096,   8.9606,  -7.5818,  -5.0935,  -7.4583,\n",
      "           1.9125,   2.1436,   5.4783,   5.2932],\n",
      "        [  4.4560,  -9.4329,  10.3414, -17.1302,   7.6904,  -0.6110,\n",
      "          13.8753,  19.7684, -15.6479,  -1.2775],\n",
      "        [  1.9269,  -1.3340,   9.7224, -22.7434,   4.4086,  -5.6583,\n",
      "          11.0266,  11.1932, -12.6966,  11.0547],\n",
      "        [ 12.3736, -18.8429,  19.7297, -23.1376,   1.5217,   1.1133,\n",
      "          20.8564,   8.0597,  -7.8363,   4.0511],\n",
      "        [ 10.6350, -11.9267,   6.5083, -11.5307,   6.2666,   6.2481,\n",
      "           3.0407,  13.5361,  -5.6747,  -2.9355],\n",
      "        [ 11.1333, -13.2297,  14.3228, -15.9264,   4.5757,  -6.0720,\n",
      "           7.2468,   0.0230,  -2.9494,   2.6289],\n",
      "        [ 10.0657,  -5.4335,  12.5646, -21.0971,   5.7356,  -7.1166,\n",
      "          19.1930,   9.9856, -11.8405,  -3.2413],\n",
      "        [  2.8917, -10.4735,  14.5216, -13.8194,   0.3349,   1.5196,\n",
      "           9.5649,  14.2144, -10.7670,  -3.2091],\n",
      "        [  6.0998, -18.9071,  10.3930, -16.0004,  -2.8518,  -1.0894,\n",
      "          14.5179,  12.1891, -18.6065,   3.3765],\n",
      "        [  6.2816, -11.0136,  -4.9294, -16.8413,  10.2784,   2.5975,\n",
      "          13.9961,   7.4467, -10.4129,   8.6184],\n",
      "        [  5.9510, -10.3499,   8.0283, -21.0313,   2.3799,  -2.8236,\n",
      "          12.2646,   9.9355,  -7.4118,   2.0994],\n",
      "        [  5.6413,  -4.0537,   8.2431, -18.1954,   9.0954,  -6.1905,\n",
      "          15.1424,  12.8985,  -8.3848,   3.7313],\n",
      "        [  3.2399,  -9.2805,  12.1592, -17.6775,  -1.8621,  -4.9779,\n",
      "          25.1520,  10.0625,  -3.6740,  -3.8748],\n",
      "        [  5.0257,  -2.6714,  14.0395, -28.2236,   5.9947,   4.4317,\n",
      "           5.1399,  20.9703, -12.3935,  -1.6748],\n",
      "        [ -3.3661,  -5.5276,  12.6494, -13.6516,  -9.1276,   2.0154,\n",
      "           4.5997,   7.4945,  -5.6206,   1.3075],\n",
      "        [ -1.3101,  -7.0236,  14.3223, -21.2292,  -3.0412,  -1.1361,\n",
      "          24.9242,   6.7065, -12.8609,  -1.7450],\n",
      "        [ 10.8588, -12.1508,   7.9843, -18.8638,   7.0112,   0.2210,\n",
      "          17.1953,   6.4355, -17.4679,  -3.9972],\n",
      "        [  7.9118,  -8.1788,   8.9964, -15.6108,   1.7217,  -6.6161,\n",
      "           6.8708,  10.6489,  -2.8802,   3.3594],\n",
      "        [ 17.0735, -20.4808,  16.1692,  -4.7207,   9.9770,   8.5763,\n",
      "          16.3223,   0.7150,  -1.8026,   3.7277],\n",
      "        [  6.7130, -16.0804,  10.0975, -17.2504,   0.5672,  -0.8862,\n",
      "          18.8959,  11.2548, -20.3143,   1.5193],\n",
      "        [  2.0977, -14.8530,   9.9654, -14.8869,   4.3590,  -8.5562,\n",
      "          16.8872,  16.8141,  -9.8967,   6.3311],\n",
      "        [ 12.3094,  -9.2435,   9.5889, -18.6897,   7.3968,  -5.0293,\n",
      "          18.1162,   9.3272,   0.0352,  -4.6957],\n",
      "        [ 10.7077, -24.5123,   8.6152,  -6.3098,   2.9094,   2.9221,\n",
      "          18.9528,  20.1322,  -5.5586,  -5.1941],\n",
      "        [  5.1485, -18.5786,  12.5419, -28.1042,  -1.3646,   0.2023,\n",
      "          14.9429,  16.7046, -19.4031,   5.0501],\n",
      "        [  1.4333, -10.9211,   6.4388, -11.6976,   6.7127,   5.8795,\n",
      "          18.4091,   9.9593, -16.4131,   4.8362],\n",
      "        [  5.0148, -15.8906,   6.7713, -20.4437,   2.7945,  -2.9040,\n",
      "          25.0837,  10.7461, -10.4660,   4.3434],\n",
      "        [  2.2882,  -3.4776,   6.3553, -24.1650,  -2.3164,   3.6485,\n",
      "          15.9320,  12.4980, -18.7558,  -1.2016],\n",
      "        [ 16.3925,   0.3392,  10.9787, -17.0204,  -2.5877,   6.5003,\n",
      "          11.6019,  15.9127,  -7.5418,   4.8634],\n",
      "        [  9.2742,  -9.9910,   6.0521,  -9.6472,  13.7536,   1.3924,\n",
      "          24.8430,  15.4431, -10.4592,  -0.7446],\n",
      "        [ 12.6064, -14.6968,  13.7566, -23.7933,   1.7933,  -1.0499,\n",
      "          22.6592,   3.8606, -10.5113,  -2.4939]])\n"
     ]
    }
   ],
   "source": [
    "def activation(x):\n",
    "    return 1/(1+torch.exp(-x))\n",
    "\n",
    "inputs = images.view(images.shape[0], -1)\n",
    "\n",
    "w1 = torch.randn(784,256)\n",
    "b1 = torch.randn(256)\n",
    "\n",
    "w2 = torch.randn(256, 10)\n",
    "b2 = torch.randn(10)\n",
    "\n",
    "h = activation(torch.mm(inputs, w1) + b1)\n",
    "\n",
    "out = torch.mm(h, w2) + b2\n",
    "print(out)"
   ]
  },
  {
   "cell_type": "code",
   "execution_count": 8,
   "metadata": {},
   "outputs": [
    {
     "name": "stdout",
     "output_type": "stream",
     "text": [
      "torch.Size([64, 10])\n",
      "tensor([ 1.0000,  1.0000,  1.0000,  1.0000,  1.0000,  1.0000,  1.0000,\n",
      "         1.0000,  1.0000,  1.0000,  1.0000,  1.0000,  1.0000,  1.0000,\n",
      "         1.0000,  1.0000,  1.0000,  1.0000,  1.0000,  1.0000,  1.0000,\n",
      "         1.0000,  1.0000,  1.0000,  1.0000,  1.0000,  1.0000,  1.0000,\n",
      "         1.0000,  1.0000,  1.0000,  1.0000,  1.0000,  1.0000,  1.0000,\n",
      "         1.0000,  1.0000,  1.0000,  1.0000,  1.0000,  1.0000,  1.0000,\n",
      "         1.0000,  1.0000,  1.0000,  1.0000,  1.0000,  1.0000,  1.0000,\n",
      "         1.0000,  1.0000,  1.0000,  1.0000,  1.0000,  1.0000,  1.0000,\n",
      "         1.0000,  1.0000,  1.0000,  1.0000,  1.0000,  1.0000,  1.0000,\n",
      "         1.0000])\n"
     ]
    }
   ],
   "source": [
    "def softmax(x):\n",
    "    return torch.exp(x)/torch.sum(torch.exp(x), dim=1).view(-1,1)\n",
    "                                  \n",
    "probabilities = softmax(out)\n",
    "                                  \n",
    "print(probabilities.shape)\n",
    "print(probabilities.sum(dim=1))"
   ]
  },
  {
   "cell_type": "markdown",
   "metadata": {},
   "source": [
    "#### Buildung Networks with PyTorch:"
   ]
  },
  {
   "cell_type": "code",
   "execution_count": 9,
   "metadata": {},
   "outputs": [],
   "source": [
    "from torch import nn\n",
    "import torch.nn.functional as F"
   ]
  },
  {
   "cell_type": "code",
   "execution_count": 10,
   "metadata": {},
   "outputs": [
    {
     "data": {
      "text/plain": [
       "Network(\n",
       "  (fc1): Linear(in_features=784, out_features=128, bias=True)\n",
       "  (fc2): Linear(in_features=128, out_features=64, bias=True)\n",
       "  (fc3): Linear(in_features=64, out_features=10, bias=True)\n",
       ")"
      ]
     },
     "execution_count": 10,
     "metadata": {},
     "output_type": "execute_result"
    }
   ],
   "source": [
    "class Network(nn.Module):\n",
    "    def __init__(self):\n",
    "        super().__init__()\n",
    "        \n",
    "        self.fc1=nn.Linear(784,128)\n",
    "        self.fc2=nn.Linear(128,64)\n",
    "        self.fc3=nn.Linear(64,10)\n",
    "        \n",
    "    def forward(self, x):\n",
    "        x = self.fc1(x)\n",
    "        x = F.relu(x)\n",
    "        x = self.fc2(x)\n",
    "        x = F.relu(x)\n",
    "        x = self.fc3(x)\n",
    "        x = F.softmax(x, dim=1)\n",
    "        \n",
    "        return x\n",
    "    \n",
    "model = Network()\n",
    "model\n",
    "        "
   ]
  },
  {
   "cell_type": "markdown",
   "metadata": {},
   "source": [
    "#### Forward Pass: "
   ]
  },
  {
   "cell_type": "code",
   "execution_count": 11,
   "metadata": {},
   "outputs": [
    {
     "data": {
      "image/png": "[encoded data removed]",
      "text/plain": [
       "<matplotlib.figure.Figure at 0x203801c13c8>"
      ]
     },
     "metadata": {
      "image/png": {
       "height": 224,
       "width": 423
      }
     },
     "output_type": "display_data"
    }
   ],
   "source": [
    "dataiter = iter(trainloader)\n",
    "images, labels = dataiter.next()\n",
    "\n",
    "images.resize_(64, 1, 784)\n",
    "\n",
    "img_idx = 0\n",
    "ps = model.forward(images[img_idx, :1])\n",
    "\n",
    "img = images[img_idx]\n",
    "helper.view_classify(img.view(1, 28, 28), ps)"
   ]
  },
  {
   "cell_type": "markdown",
   "metadata": {},
   "source": [
    "As we can see above, our network has basically no idea what this digit is. It's because we haven't trained it yet, all the weights are random.|"
   ]
  },
  {
   "cell_type": "code",
   "execution_count": 12,
   "metadata": {},
   "outputs": [
    {
     "name": "stdout",
     "output_type": "stream",
     "text": [
      "tensor(2.3089)\n"
     ]
    }
   ],
   "source": [
    "# Building a feed forward network\n",
    "model = nn.Sequential(nn.Linear(784, 128),\n",
    "                      nn.ReLU(),\n",
    "                      nn.Linear(128, 64),\n",
    "                      nn.ReLU(),\n",
    "                      nn.Linear(64, 10),\n",
    "                      nn.LogSoftmax(dim=1))\n",
    "\n",
    "criterion = nn.NLLLoss()\n",
    "\n",
    "images, labels = next(iter(trainloader))\n",
    "images = images.view(images.shape[0], -1)\n",
    "\n",
    "logps = model(images)\n",
    "loss = criterion(logps, labels)\n",
    "\n",
    "print(loss)"
   ]
  },
  {
   "cell_type": "code",
   "execution_count": 13,
   "metadata": {},
   "outputs": [
    {
     "name": "stdout",
     "output_type": "stream",
     "text": [
      "Before backward pass: \n",
      " None\n",
      "After backward pass: \n",
      " tensor(1.00000e-02 *\n",
      "       [[-0.0165, -0.0165, -0.0165,  ..., -0.0166, -0.0166, -0.0166],\n",
      "        [-0.0604, -0.0604, -0.0604,  ..., -0.0604, -0.0604, -0.0604],\n",
      "        [-0.0556, -0.0556, -0.0556,  ..., -0.0556, -0.0556, -0.0556],\n",
      "        ...,\n",
      "        [-0.1011, -0.1011, -0.1011,  ..., -0.1011, -0.1011, -0.1011],\n",
      "        [-0.2024, -0.2024, -0.2024,  ..., -0.2024, -0.2024, -0.2024],\n",
      "        [ 0.3909,  0.3909,  0.3909,  ...,  0.3909,  0.3909,  0.3909]])\n"
     ]
    }
   ],
   "source": [
    "print('Before backward pass: \\n', model[0].weight.grad)\n",
    "\n",
    "loss.backward()\n",
    "\n",
    "print('After backward pass: \\n', model[0].weight.grad)"
   ]
  },
  {
   "cell_type": "markdown",
   "metadata": {},
   "source": [
    "#### Training the Network:"
   ]
  },
  {
   "cell_type": "code",
   "execution_count": 15,
   "metadata": {},
   "outputs": [
    {
     "name": "stdout",
     "output_type": "stream",
     "text": [
      "Training loss: 1.9057469584031907\n",
      "Training loss: 0.8370530300303054\n",
      "Training loss: 0.5384766124586052\n",
      "Training loss: 0.44330296864006313\n",
      "Training loss: 0.3954663625372244\n",
      "Training loss: 0.3662768965209725\n",
      "Training loss: 0.34552276831096423\n",
      "Training loss: 0.32976800624304997\n",
      "Training loss: 0.3173255808254295\n",
      "Training loss: 0.30682214344742453\n"
     ]
    }
   ],
   "source": [
    "model = nn.Sequential(nn.Linear(784, 128),\n",
    "                      nn.ReLU(),\n",
    "                      nn.Linear(128, 64),\n",
    "                      nn.ReLU(),\n",
    "                      nn.Linear(64, 10),\n",
    "                      nn.LogSoftmax(dim=1))\n",
    "\n",
    "criterion = nn.NLLLoss()\n",
    "optimizer = optim.SGD(model.parameters(), lr=0.003)\n",
    "\n",
    "epochs = 10\n",
    "for e in range(epochs):\n",
    "    running_loss = 0\n",
    "    for images, labels in trainloader:\n",
    "        images = images.view(images.shape[0], -1)\n",
    "        optimizer.zero_grad()\n",
    "        \n",
    "        output = model(images)\n",
    "        loss = criterion(output, labels)\n",
    "        loss.backward()\n",
    "        optimizer.step()\n",
    "        \n",
    "        running_loss += loss.item()\n",
    "    else:\n",
    "        print(f\"Training loss: {running_loss/len(trainloader)}\")\n",
    "        "
   ]
  },
  {
   "cell_type": "markdown",
   "metadata": {},
   "source": [
    "With the network trained, we can check out it's predictions."
   ]
  },
  {
   "cell_type": "code",
   "execution_count": 18,
   "metadata": {},
   "outputs": [
    {
     "data": {
      "image/png": "[encoded data removed]",
      "text/plain": [
       "<matplotlib.figure.Figure at 0x203842800f0>"
      ]
     },
     "metadata": {
      "image/png": {
       "height": 224,
       "width": 423
      }
     },
     "output_type": "display_data"
    }
   ],
   "source": [
    "%matplotlib inline\n",
    "import helper\n",
    "images, labels = next(iter(trainloader))\n",
    "\n",
    "img = images[0].view(1, 784)\n",
    "with torch.no_grad():\n",
    "    logps = model(img)\n",
    "    \n",
    "ps = torch.exp(logps)\n",
    "helper.view_classify(img.view(1, 28, 28), ps)"
   ]
  },
  {
   "cell_type": "code",
   "execution_count": 31,
   "metadata": {},
   "outputs": [
    {
     "data": {
      "image/png": "[encoded data removed]",
      "text/plain": [
       "<matplotlib.figure.Figure at 0x20384bcf6d8>"
      ]
     },
     "metadata": {
      "image/png": {
       "height": 224,
       "width": 423
      }
     },
     "output_type": "display_data"
    }
   ],
   "source": [
    "images, labels = next(iter(trainloader))\n",
    "img = images[0].view(1, 784)\n",
    "with torch.no_grad():\n",
    "    logps = model(img)\n",
    "ps = torch.exp(logps)\n",
    "helper.view_classify(img.view(1, 28, 28), ps)"
   ]
  },
  {
   "cell_type": "markdown",
   "metadata": {},
   "source": [
    "Now our network is brilliant. It can accurately predict the digits in our images. Succesfully built a new environment with PyTorch and used it to classifiy handwritten digits from the MNIST dataset "
   ]
  }
 ],
 "metadata": {
  "kernelspec": {
   "display_name": "Python 3",
   "language": "python",
   "name": "python3"
  },
  "language_info": {
   "codemirror_mode": {
    "name": "ipython",
    "version": 3
   },
   "file_extension": ".py",
   "mimetype": "text/x-python",
   "name": "python",
   "nbconvert_exporter": "python",
   "pygments_lexer": "ipython3",
   "version": "3.6.4"
  }
 },
 "nbformat": 4,
 "nbformat_minor": 2
}
