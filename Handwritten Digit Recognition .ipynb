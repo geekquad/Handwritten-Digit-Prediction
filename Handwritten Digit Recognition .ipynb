{
 "cells": [
  {
   "cell_type": "code",
   "execution_count": 42,
   "metadata": {},
   "outputs": [],
   "source": [
    "def helper():\n",
    "    import matplotlib.pyplot as plt\n",
    "    import numpy as np\n",
    "from torch import nn, optim\n",
    "from torch.autograd import Variable\n",
    "\n",
    "\n",
    "def test_network(net, trainloader):\n",
    "\n",
    "    criterion = nn.MSELoss()\n",
    "    optimizer = optim.Adam(net.parameters(), lr=0.001)\n",
    "\n",
    "    dataiter = iter(trainloader)\n",
    "    images, labels = dataiter.next()\n",
    "\n",
    "    # Create Variables for the inputs and targets\n",
    "    inputs = Variable(images)\n",
    "    targets = Variable(images)\n",
    "\n",
    "    # Clear the gradients from all Variables\n",
    "    optimizer.zero_grad()\n",
    "\n",
    "    # Forward pass, then backward pass, then update weights\n",
    "    output = net.forward(inputs)\n",
    "    loss = criterion(output, targets)\n",
    "    loss.backward()\n",
    "    optimizer.step()\n",
    "\n",
    "    return True\n",
    "\n",
    "\n",
    "def imshow(image, ax=None, title=None, normalize=True):\n",
    "    \"\"\"Imshow for Tensor.\"\"\"\n",
    "    if ax is None:\n",
    "        fig, ax = plt.subplots()\n",
    "    image = image.numpy().transpose((1, 2, 0))\n",
    "\n",
    "    if normalize:\n",
    "        mean = np.array([0.485, 0.456, 0.406])\n",
    "        std = np.array([0.229, 0.224, 0.225])\n",
    "        image = std * image + mean\n",
    "        image = np.clip(image, 0, 1)\n",
    "\n",
    "    ax.imshow(image)\n",
    "    ax.spines['top'].set_visible(False)\n",
    "    ax.spines['right'].set_visible(False)\n",
    "    ax.spines['left'].set_visible(False)\n",
    "    ax.spines['bottom'].set_visible(False)\n",
    "    ax.tick_params(axis='both', length=0)\n",
    "    ax.set_xticklabels('')\n",
    "    ax.set_yticklabels('')\n",
    "\n",
    "    return ax\n",
    "\n",
    "\n",
    "def view_recon(img, recon):\n",
    "    ''' Function for displaying an image (as a PyTorch Tensor) and its\n",
    "        reconstruction also a PyTorch Tensor\n",
    "    '''\n",
    "\n",
    "    fig, axes = plt.subplots(ncols=2, sharex=True, sharey=True)\n",
    "    axes[0].imshow(img.numpy().squeeze())\n",
    "    axes[1].imshow(recon.data.numpy().squeeze())\n",
    "    for ax in axes:\n",
    "        ax.axis('off')\n",
    "        ax.set_adjustable('box-forced')\n",
    "\n",
    "def view_classify(img, ps, version=\"MNIST\"):\n",
    "    ''' Function for viewing an image and it's predicted classes.\n",
    "    '''\n",
    "    ps = ps.data.numpy().squeeze()\n",
    "\n",
    "    fig, (ax1, ax2) = plt.subplots(figsize=(6,9), ncols=2)\n",
    "    ax1.imshow(img.resize_(1, 28, 28).numpy().squeeze())\n",
    "    ax1.axis('off')\n",
    "    ax2.barh(np.arange(10), ps)\n",
    "    ax2.set_aspect(0.1)\n",
    "    ax2.set_yticks(np.arange(10))\n",
    "    if version == \"MNIST\":\n",
    "        ax2.set_yticklabels(np.arange(10))\n",
    "    elif version == \"Fashion\":\n",
    "        ax2.set_yticklabels(['T-shirt/top',\n",
    "                            'Trouser',\n",
    "                            'Pullover',\n",
    "                            'Dress',\n",
    "                            'Coat',\n",
    "                            'Sandal',\n",
    "                            'Shirt',\n",
    "                            'Sneaker',\n",
    "                            'Bag',\n",
    "                            'Ankle Boot'], size='small');\n",
    "    ax2.set_title('Class Probability')\n",
    "    ax2.set_xlim(0, 1.1)\n",
    "\n",
    "    plt.tight_layout()\n"
   ]
  },
  {
   "cell_type": "code",
   "execution_count": 43,
   "metadata": {},
   "outputs": [],
   "source": [
    "%matplotlib inline\n",
    "%config InlineBackend.figure_format = 'retina'\n",
    "\n",
    "import helper\n",
    "import torch\n",
    "import numpy as np\n",
    "import matplotlib.pyplot as plt"
   ]
  },
  {
   "cell_type": "code",
   "execution_count": 44,
   "metadata": {},
   "outputs": [],
   "source": [
    "from torchvision import datasets, transforms\n",
    "\n",
    "transform = transforms.Compose([transforms.ToTensor(),\n",
    "                               transforms.Normalize((0.5,),(0.5,)),\n",
    "                               ])\n",
    "\n",
    "trainset = datasets.MNIST('~/.pytorch/MNIST_data/', download=True, train=True, transform=transform)\n",
    "trainloader = torch.utils.data.DataLoader(trainset, batch_size=64, shuffle=True)"
   ]
  },
  {
   "cell_type": "markdown",
   "metadata": {},
   "source": [
    "We have the training data loaded into trainloader and we make that an iterator with iter(trainloader). Later, we'll use this to loop through the dataset for training. "
   ]
  },
  {
   "cell_type": "code",
   "execution_count": 54,
   "metadata": {},
   "outputs": [
    {
     "name": "stdout",
     "output_type": "stream",
     "text": [
      "<class 'torch.Tensor'>\n",
      "torch.Size([64, 1, 28, 28])\n",
      "torch.Size([64])\n"
     ]
    }
   ],
   "source": [
    "dataiter = iter(trainloader)\n",
    "images, labels = dataiter.next()\n",
    "print(type(images))\n",
    "print(images.shape)\n",
    "print(labels.shape)"
   ]
  },
  {
   "cell_type": "markdown",
   "metadata": {},
   "source": [
    "This is what one of the images looks like."
   ]
  },
  {
   "cell_type": "code",
   "execution_count": 55,
   "metadata": {},
   "outputs": [
    {
     "data": {
      "image/png": "[encoded data removed]",
      "text/plain": [
       "<matplotlib.figure.Figure at 0x239e4dd7470>"
      ]
     },
     "metadata": {
      "image/png": {
       "height": 250,
       "width": 253
      }
     },
     "output_type": "display_data"
    }
   ],
   "source": [
    "plt.imshow(images[1].numpy().squeeze(), cmap='Greys_r');"
   ]
  },
  {
   "cell_type": "code",
   "execution_count": 56,
   "metadata": {},
   "outputs": [
    {
     "name": "stdout",
     "output_type": "stream",
     "text": [
      "tensor([[ -3.3481,  18.4494, -16.2995, -16.5603,  -2.3734, -12.4608,\n",
      "          -4.1734,  -0.2872,   8.1812,  13.9317],\n",
      "        [ -9.0116,  16.1485, -22.5720, -17.8771, -19.9603, -15.1346,\n",
      "          -6.6726,   3.8441,   7.0411,  13.6898],\n",
      "        [ -7.5456,  30.0630,  -4.1169, -15.4106, -12.7016,   0.5775,\n",
      "          -3.7936,  -8.7371,  12.3665,  18.9143],\n",
      "        [ -2.4655,  29.1810, -18.2723, -16.7964, -20.7926, -10.2649,\n",
      "          -1.7228,  -8.0121,  11.9049,  23.2795],\n",
      "        [ -5.2382,  18.5773, -17.6020, -22.4331,  -9.5034,  -1.9006,\n",
      "           2.8137,  -9.1911,   3.5055,  22.0528],\n",
      "        [  0.3136,  22.1985,  -3.2454, -12.0539, -11.0646,  -6.5182,\n",
      "          -5.9252,  -1.3457,  14.9390,  14.3300],\n",
      "        [-10.4697,  18.3660,  -0.2396, -14.0339, -11.3451,  -9.2250,\n",
      "          -4.1637,   1.5432,  10.6387,  20.5389],\n",
      "        [ -1.7311,  21.4162,  -8.9294, -17.5655,  -9.0819,  -9.8682,\n",
      "          -5.0230,  -2.7184,  11.1482,  24.8325],\n",
      "        [-14.4791,  25.3463, -13.8253, -14.2774, -13.8017, -11.0954,\n",
      "           4.2368,  -5.5045,  13.7935,  10.7745],\n",
      "        [ -5.5563,  13.8984, -16.4355, -17.1285,  -9.0269, -12.7705,\n",
      "          -0.7319,   0.6442,   8.6252,  19.1890],\n",
      "        [  0.0194,  23.7309, -12.7487,  -5.2209,  -9.5844, -11.1367,\n",
      "           1.2118,  -6.8225,   9.5975,  23.4291],\n",
      "        [ -2.3283,  24.0912,  -1.9633, -15.0049, -10.7620,  -3.0916,\n",
      "           4.5426,  -2.3716,   4.6973,  18.5469],\n",
      "        [ -1.1983,  24.1319, -13.6406, -15.6761, -17.7466,  -2.0591,\n",
      "           0.0917,   7.0143,   4.1833,  30.8785],\n",
      "        [ -5.8200,  26.4613,  -5.8782, -16.5488,  -9.6781,  -8.6763,\n",
      "           3.9698,  -2.2722,   7.9577,  17.5722],\n",
      "        [ -7.1742,  12.3762, -15.2691, -17.3488, -14.1837, -13.0215,\n",
      "           1.3894,   8.4499,   9.9544,  15.9560],\n",
      "        [ -4.0701,  21.7192,  -8.9524, -16.6995,  -7.7410,  -8.9625,\n",
      "          -7.4599,  13.3114,  14.6769,  22.4931],\n",
      "        [-10.1905,  22.5985, -10.4598, -15.6549, -20.5519, -10.4049,\n",
      "           1.7404,   0.1506,  -0.1196,  22.6138],\n",
      "        [ -7.4120,  17.0927, -15.0284, -22.1258,  -7.7462, -10.8405,\n",
      "          -9.6840,  -6.7905,   9.9840,  18.6241],\n",
      "        [  1.9816,  22.0593,  -7.1002, -15.0671, -18.0524,  -8.9407,\n",
      "           2.6094,   3.4430,  11.8140,  30.7718],\n",
      "        [  0.9137,  28.6235, -10.8496, -15.3924, -17.6174, -17.7551,\n",
      "           1.5213,  11.4497,   8.2529,  27.8690],\n",
      "        [  2.3094,  24.1548,  -8.8168, -13.8203, -16.7860,  -2.4802,\n",
      "           3.1592,   0.3632,   2.8485,  28.8125],\n",
      "        [ -0.0799,  18.7612,  -6.8656,  -7.6201, -14.7071,   5.0588,\n",
      "          -1.4351,  -1.2641,  10.1063,  17.2692],\n",
      "        [-10.6880,  17.5319, -14.4982, -23.5453,  -8.3838,  -9.0693,\n",
      "          -7.6686,  -2.3466,  13.2880,  17.1568],\n",
      "        [  3.3582,  37.4405,  10.8307, -19.9618, -12.2472,  -9.9859,\n",
      "           0.2467,   1.7813,   3.7337,  35.4499],\n",
      "        [ -2.1418,  22.6026, -10.3160, -11.3425, -12.9521,  -5.5967,\n",
      "          -0.3928,  -8.7055,  11.4092,  23.4522],\n",
      "        [  5.2025,  24.9938,  -8.6070, -21.3659,  -1.0143,  -8.4115,\n",
      "          -3.3303,   7.0182,   6.8337,  32.9480],\n",
      "        [ -9.9419,  23.8900,  -8.5260, -12.9876, -18.0134, -10.7651,\n",
      "           8.7077,   6.4072,   7.5318,  11.9976],\n",
      "        [ -0.2922,  11.5909, -15.9784, -18.1561,  -6.7911,  -1.8793,\n",
      "          -4.7059,   9.5470,  10.6661,  13.3722],\n",
      "        [ -0.3334,  11.5464, -16.0535, -19.1679, -10.2491, -10.7664,\n",
      "           4.5907,   2.5828,  11.4356,  23.7212],\n",
      "        [ -4.0049,  24.6966, -14.0949, -17.9895, -16.9993,  -5.7228,\n",
      "           1.5597,  -7.5070,   3.9702,  24.3817],\n",
      "        [ -3.4333,  23.2408, -16.8177, -10.2124,  -7.8590, -11.5453,\n",
      "           4.6926,  -8.5244,  12.6303,  18.8084],\n",
      "        [  2.9782,  17.1499,  -1.3636, -16.0917,  -5.4938, -10.1061,\n",
      "           0.3671,   1.1525,  20.4158,   7.6486],\n",
      "        [  0.5133,  10.5166,  -6.5544, -19.7504, -21.6981,  -8.9899,\n",
      "           5.2981,   5.8364,   8.6641,  25.9168],\n",
      "        [  1.6941,  30.7983,   4.4997, -17.0977, -13.1877,  -6.0009,\n",
      "           0.1340,   3.1098,  10.9835,  29.2194],\n",
      "        [ -5.0530,  21.7826,  -3.0910, -17.1355,   1.4104, -19.4287,\n",
      "          -5.3646,   2.3675,  10.2386,  21.3067],\n",
      "        [ -3.0727,  17.0892,  -6.8632,  -7.3749, -15.4196,   1.1094,\n",
      "           3.4185,  -8.8205,   4.4166,  15.1862],\n",
      "        [  2.6969,  21.1454, -16.3950, -18.5443, -11.0232,  -7.3187,\n",
      "          -6.9074,  -6.6247,   9.4570,  11.1924],\n",
      "        [  1.8270,  27.5141,  -0.8142, -16.6698, -10.2323,  -6.4751,\n",
      "          11.1805,   1.4686,   6.2985,  27.2144],\n",
      "        [ -3.4307,  24.0805,  -3.8926,  -7.7902, -19.0140,  -4.4913,\n",
      "           4.0805,  -0.6904,   7.6592,  13.1279],\n",
      "        [ -5.7192,  16.6728, -15.3337, -15.6052, -15.6868,  -3.7108,\n",
      "          -5.2209,  -6.4782,  11.3382,  17.6267],\n",
      "        [ -3.1684,  28.3813,  -2.6861, -18.6379, -17.6324,   3.3945,\n",
      "          -5.2898,  -3.9056,  16.5544,  12.9476],\n",
      "        [ -8.9956,  16.9827, -11.6926, -16.0162, -20.3102, -13.8020,\n",
      "          -0.3989,   3.7822,  11.0740,  22.2862],\n",
      "        [ -8.7608,  15.3399, -21.2190, -20.2653,  -7.4083,  -7.5791,\n",
      "           1.7617,   0.4752,  17.0258,  14.7979],\n",
      "        [ -2.7858,  21.3318,   0.3828, -13.2804, -10.3910, -10.6350,\n",
      "          -9.9757,   4.3287,   3.8694,  22.8386],\n",
      "        [ -2.3812,  17.6482,  -7.4219,  -9.6306,  -6.9560,  -7.0607,\n",
      "          -1.1875,   2.8668,  13.9303,  23.9058],\n",
      "        [-10.0780,  15.9494, -10.5489, -16.6253, -10.4929,  -6.0579,\n",
      "           4.6425,   2.0768,  14.0047,  19.5129],\n",
      "        [ -5.1711,  33.1158, -10.1937,   2.1987, -11.2458, -10.7279,\n",
      "           1.9354,  -8.2840,  -2.1288,  14.7490],\n",
      "        [ -6.3847,  18.4710,  -2.4910,  -9.3407, -21.5551,  -4.0412,\n",
      "          -3.9035,   4.3770,   6.0149,  22.6195],\n",
      "        [ -4.9444,  26.7288, -13.6054, -14.1047, -12.4500, -17.2323,\n",
      "           2.0222,  11.6361,  19.8741,  21.0959],\n",
      "        [ -5.6607,  22.8062, -10.3091, -18.2076, -13.3166,  -9.5455,\n",
      "           2.0269,   1.7163,   9.3567,  26.7988],\n",
      "        [ -0.1407,  23.1093, -11.0929, -17.1698, -26.2937,  -0.2686,\n",
      "          -1.4047,  -7.6082,   5.7227,  34.0644],\n",
      "        [-12.3518,  20.3416,  -3.2820, -18.1300,  -8.7715, -10.0326,\n",
      "           2.0198,   9.5302,  11.4433,  15.3469],\n",
      "        [ -8.8680,  14.9942,  -8.5093, -11.8951,  -6.9256,  -5.4431,\n",
      "           9.1230,   7.4581,   6.3251,  17.6680],\n",
      "        [ -8.9310,  23.5808, -16.5295, -13.8415,  -6.9867,  -8.8807,\n",
      "          -0.3460,   1.1948,  17.1487,  11.3761],\n",
      "        [ -6.9026,  23.1725,  -9.2888, -11.2634, -25.8535,  -5.3020,\n",
      "          -1.9619,   2.9972,   3.1522,  22.6344],\n",
      "        [-14.0922,  20.3682,   0.9701, -16.3253, -22.2308, -10.4815,\n",
      "          -3.8727,  -6.8029,  17.6642,  18.8972],\n",
      "        [  7.2892,  19.5494, -17.3684, -18.8625, -10.0105, -18.9141,\n",
      "           3.4431,   1.3445,   2.7507,  18.5586],\n",
      "        [ -4.7492,  12.4311, -14.0476,  -6.0832, -13.3439,  -7.9892,\n",
      "           3.8022,   2.4351,  14.4850,  17.2114],\n",
      "        [ -5.2183,  16.1089,  -2.5195, -12.6270, -13.7607, -14.0117,\n",
      "          -0.3136,  -7.6914,   5.5560,  19.2332],\n",
      "        [ -0.6102,  35.1442, -14.2348, -16.1042, -14.5748,   5.1542,\n",
      "          -7.8443,   4.6028,  11.3309,  21.8564],\n",
      "        [  0.7155,  33.9610,  -1.8505, -17.3267,  -4.3056,  -4.9672,\n",
      "           2.2892,  -0.7067,  10.6124,  25.1163],\n",
      "        [-12.0530,  19.5391, -11.7287, -19.9405,  -3.9781, -14.0364,\n",
      "           2.8338,   6.7656,   6.2998,  18.7024],\n",
      "        [-11.0932,  21.3193, -13.3940, -14.4786, -10.1349, -11.2106,\n",
      "          -0.9767,  -4.5334,  14.3961,  17.6249],\n",
      "        [ -6.4810,  23.9059, -10.3605, -24.9362, -10.6961, -10.7283,\n",
      "          -5.3259,  -3.7338,  10.2393,  27.1875]])\n"
     ]
    }
   ],
   "source": [
    "def activation(x):\n",
    "    return 1/(1+torch.exp(-x))\n",
    "\n",
    "inputs = images.view(images.shape[0], -1)\n",
    "\n",
    "w1 = torch.randn(784,256)\n",
    "b1 = torch.randn(256)\n",
    "\n",
    "w2 = torch.randn(256, 10)\n",
    "b2 = torch.randn(10)\n",
    "\n",
    "h = activation(torch.mm(inputs, w1) + b1)\n",
    "\n",
    "out = torch.mm(h, w2) + b2\n",
    "print(out)"
   ]
  },
  {
   "cell_type": "code",
   "execution_count": 57,
   "metadata": {},
   "outputs": [
    {
     "name": "stdout",
     "output_type": "stream",
     "text": [
      "torch.Size([64, 10])\n",
      "tensor([ 1.0000,  1.0000,  1.0000,  1.0000,  1.0000,  1.0000,  1.0000,\n",
      "         1.0000,  1.0000,  1.0000,  1.0000,  1.0000,  1.0000,  1.0000,\n",
      "         1.0000,  1.0000,  1.0000,  1.0000,  1.0000,  1.0000,  1.0000,\n",
      "         1.0000,  1.0000,  1.0000,  1.0000,  1.0000,  1.0000,  1.0000,\n",
      "         1.0000,  1.0000,  1.0000,  1.0000,  1.0000,  1.0000,  1.0000,\n",
      "         1.0000,  1.0000,  1.0000,  1.0000,  1.0000,  1.0000,  1.0000,\n",
      "         1.0000,  1.0000,  1.0000,  1.0000,  1.0000,  1.0000,  1.0000,\n",
      "         1.0000,  1.0000,  1.0000,  1.0000,  1.0000,  1.0000,  1.0000,\n",
      "         1.0000,  1.0000,  1.0000,  1.0000,  1.0000,  1.0000,  1.0000,\n",
      "         1.0000])\n"
     ]
    }
   ],
   "source": [
    "def softmax(x):\n",
    "    return torch.exp(x)/torch.sum(torch.exp(x), dim=1).view(-1,1)\n",
    "                                  \n",
    "probabilities = softmax(out)\n",
    "                                  \n",
    "print(probabilities.shape)\n",
    "print(probabilities.sum(dim=1))"
   ]
  },
  {
   "cell_type": "markdown",
   "metadata": {},
   "source": [
    "#### Buildung Networks with PyTorch:"
   ]
  },
  {
   "cell_type": "code",
   "execution_count": 58,
   "metadata": {},
   "outputs": [],
   "source": [
    "from torch import nn\n",
    "import torch.nn.functional as F"
   ]
  },
  {
   "cell_type": "code",
   "execution_count": 59,
   "metadata": {},
   "outputs": [
    {
     "data": {
      "text/plain": [
       "Network(\n",
       "  (fc1): Linear(in_features=784, out_features=128, bias=True)\n",
       "  (fc2): Linear(in_features=128, out_features=64, bias=True)\n",
       "  (fc3): Linear(in_features=64, out_features=10, bias=True)\n",
       ")"
      ]
     },
     "execution_count": 59,
     "metadata": {},
     "output_type": "execute_result"
    }
   ],
   "source": [
    "class Network(nn.Module):\n",
    "    def __init__(self):\n",
    "        super().__init__()\n",
    "        \n",
    "        self.fc1=nn.Linear(784,128)\n",
    "        self.fc2=nn.Linear(128,64)\n",
    "        self.fc3=nn.Linear(64,10)\n",
    "        \n",
    "    def forward(self, x):\n",
    "        x = self.fc1(x)\n",
    "        x = F.relu(x)\n",
    "        x = self.fc2(x)\n",
    "        x = F.relu(x)\n",
    "        x = self.fc3(x)\n",
    "        x = F.softmax(x, dim=1)\n",
    "        \n",
    "        return x\n",
    "    \n",
    "model = Network()\n",
    "model\n",
    "        "
   ]
  },
  {
   "cell_type": "markdown",
   "metadata": {},
   "source": [
    "#### Forward Pass: "
   ]
  },
  {
   "cell_type": "code",
   "execution_count": 63,
   "metadata": {},
   "outputs": [
    {
     "data": {
      "image/png": "[encoded data removed]",
      "text/plain": [
       "<matplotlib.figure.Figure at 0x239dfada7b8>"
      ]
     },
     "metadata": {
      "image/png": {
       "height": 224,
       "width": 423
      }
     },
     "output_type": "display_data"
    }
   ],
   "source": [
    "dataiter = iter(trainloader)\n",
    "images, labels = dataiter.next()\n",
    "\n",
    "images.resize_(64, 1, 784)\n",
    "\n",
    "img_idx = 0\n",
    "ps = model.forward(images[img_idx, :1])\n",
    "\n",
    "img = images[img_idx]\n",
    "helper.view_classify(img.view(1, 28, 28), ps)"
   ]
  },
  {
   "cell_type": "markdown",
   "metadata": {},
   "source": [
    "As we can see above, our network has basically no idea what this digit is. It's because we haven't trained it yet, all the weights are random.|"
   ]
  },
  {
   "cell_type": "code",
   "execution_count": 69,
   "metadata": {},
   "outputs": [
    {
     "name": "stdout",
     "output_type": "stream",
     "text": [
      "tensor(2.3265)\n"
     ]
    }
   ],
   "source": [
    "# Building a feed forward network\n",
    "model = nn.Sequential(nn.Linear(784, 128),\n",
    "                      nn.ReLU(),\n",
    "                      nn.Linear(128, 64),\n",
    "                      nn.ReLU(),\n",
    "                      nn.Linear(64, 10),\n",
    "                      nn.LogSoftmax(dim=1))\n",
    "\n",
    "criterion = nn.NLLLoss()\n",
    "\n",
    "images, labels = next(iter(trainloader))\n",
    "images = images.view(images.shape[0], -1)\n",
    "\n",
    "logps = model(images)\n",
    "loss = criterion(logps, labels)\n",
    "\n",
    "print(loss)"
   ]
  },
  {
   "cell_type": "code",
   "execution_count": 70,
   "metadata": {},
   "outputs": [
    {
     "name": "stdout",
     "output_type": "stream",
     "text": [
      "Before backward pass: \n",
      " None\n",
      "After backward pass: \n",
      " tensor(1.00000e-02 *\n",
      "       [[ 0.0352,  0.0352,  0.0352,  ...,  0.0352,  0.0352,  0.0352],\n",
      "        [-0.0762, -0.0762, -0.0762,  ..., -0.0762, -0.0762, -0.0762],\n",
      "        [-0.1086, -0.1086, -0.1086,  ..., -0.1086, -0.1086, -0.1086],\n",
      "        ...,\n",
      "        [-0.0237, -0.0237, -0.0237,  ..., -0.0237, -0.0237, -0.0237],\n",
      "        [-0.0987, -0.0987, -0.0987,  ..., -0.0987, -0.0987, -0.0987],\n",
      "        [-0.2061, -0.2061, -0.2061,  ..., -0.2061, -0.2061, -0.2061]])\n"
     ]
    }
   ],
   "source": [
    "print('Before backward pass: \\n', model[0].weight.grad)\n",
    "\n",
    "loss.backward()\n",
    "\n",
    "print('After backward pass: \\n', model[0].weight.grad)"
   ]
  },
  {
   "cell_type": "code",
   "execution_count": null,
   "metadata": {},
   "outputs": [],
   "source": []
  }
 ],
 "metadata": {
  "kernelspec": {
   "display_name": "Python 3",
   "language": "python",
   "name": "python3"
  },
  "language_info": {
   "codemirror_mode": {
    "name": "ipython",
    "version": 3
   },
   "file_extension": ".py",
   "mimetype": "text/x-python",
   "name": "python",
   "nbconvert_exporter": "python",
   "pygments_lexer": "ipython3",
   "version": "3.6.4"
  }
 },
 "nbformat": 4,
 "nbformat_minor": 2
}
